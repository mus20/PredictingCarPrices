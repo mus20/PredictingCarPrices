{
 "cells": [
  {
   "cell_type": "code",
   "execution_count": 1,
   "metadata": {
    "collapsed": true
   },
   "outputs": [],
   "source": [
    "import pandas as pd\n",
    "import numpy as np\n",
    "import matplotlib.pyplot as plt\n",
    "%matplotlib inline\n"
   ]
  },
  {
   "cell_type": "code",
   "execution_count": 2,
   "metadata": {
    "collapsed": false
   },
   "outputs": [],
   "source": [
    "cars = pd.read_csv('imports-85.data',header=None)"
   ]
  },
  {
   "cell_type": "code",
   "execution_count": 3,
   "metadata": {
    "collapsed": false
   },
   "outputs": [
    {
     "data": {
      "text/html": [
       "<div>\n",
       "<table border=\"1\" class=\"dataframe\">\n",
       "  <thead>\n",
       "    <tr style=\"text-align: right;\">\n",
       "      <th></th>\n",
       "      <th>0</th>\n",
       "      <th>1</th>\n",
       "      <th>2</th>\n",
       "      <th>3</th>\n",
       "      <th>4</th>\n",
       "      <th>5</th>\n",
       "      <th>6</th>\n",
       "      <th>7</th>\n",
       "      <th>8</th>\n",
       "      <th>9</th>\n",
       "      <th>...</th>\n",
       "      <th>16</th>\n",
       "      <th>17</th>\n",
       "      <th>18</th>\n",
       "      <th>19</th>\n",
       "      <th>20</th>\n",
       "      <th>21</th>\n",
       "      <th>22</th>\n",
       "      <th>23</th>\n",
       "      <th>24</th>\n",
       "      <th>25</th>\n",
       "    </tr>\n",
       "  </thead>\n",
       "  <tbody>\n",
       "    <tr>\n",
       "      <th>0</th>\n",
       "      <td>3</td>\n",
       "      <td>?</td>\n",
       "      <td>alfa-romero</td>\n",
       "      <td>gas</td>\n",
       "      <td>std</td>\n",
       "      <td>two</td>\n",
       "      <td>convertible</td>\n",
       "      <td>rwd</td>\n",
       "      <td>front</td>\n",
       "      <td>88.6</td>\n",
       "      <td>...</td>\n",
       "      <td>130</td>\n",
       "      <td>mpfi</td>\n",
       "      <td>3.47</td>\n",
       "      <td>2.68</td>\n",
       "      <td>9.0</td>\n",
       "      <td>111</td>\n",
       "      <td>5000</td>\n",
       "      <td>21</td>\n",
       "      <td>27</td>\n",
       "      <td>13495</td>\n",
       "    </tr>\n",
       "    <tr>\n",
       "      <th>1</th>\n",
       "      <td>3</td>\n",
       "      <td>?</td>\n",
       "      <td>alfa-romero</td>\n",
       "      <td>gas</td>\n",
       "      <td>std</td>\n",
       "      <td>two</td>\n",
       "      <td>convertible</td>\n",
       "      <td>rwd</td>\n",
       "      <td>front</td>\n",
       "      <td>88.6</td>\n",
       "      <td>...</td>\n",
       "      <td>130</td>\n",
       "      <td>mpfi</td>\n",
       "      <td>3.47</td>\n",
       "      <td>2.68</td>\n",
       "      <td>9.0</td>\n",
       "      <td>111</td>\n",
       "      <td>5000</td>\n",
       "      <td>21</td>\n",
       "      <td>27</td>\n",
       "      <td>16500</td>\n",
       "    </tr>\n",
       "    <tr>\n",
       "      <th>2</th>\n",
       "      <td>1</td>\n",
       "      <td>?</td>\n",
       "      <td>alfa-romero</td>\n",
       "      <td>gas</td>\n",
       "      <td>std</td>\n",
       "      <td>two</td>\n",
       "      <td>hatchback</td>\n",
       "      <td>rwd</td>\n",
       "      <td>front</td>\n",
       "      <td>94.5</td>\n",
       "      <td>...</td>\n",
       "      <td>152</td>\n",
       "      <td>mpfi</td>\n",
       "      <td>2.68</td>\n",
       "      <td>3.47</td>\n",
       "      <td>9.0</td>\n",
       "      <td>154</td>\n",
       "      <td>5000</td>\n",
       "      <td>19</td>\n",
       "      <td>26</td>\n",
       "      <td>16500</td>\n",
       "    </tr>\n",
       "    <tr>\n",
       "      <th>3</th>\n",
       "      <td>2</td>\n",
       "      <td>164</td>\n",
       "      <td>audi</td>\n",
       "      <td>gas</td>\n",
       "      <td>std</td>\n",
       "      <td>four</td>\n",
       "      <td>sedan</td>\n",
       "      <td>fwd</td>\n",
       "      <td>front</td>\n",
       "      <td>99.8</td>\n",
       "      <td>...</td>\n",
       "      <td>109</td>\n",
       "      <td>mpfi</td>\n",
       "      <td>3.19</td>\n",
       "      <td>3.40</td>\n",
       "      <td>10.0</td>\n",
       "      <td>102</td>\n",
       "      <td>5500</td>\n",
       "      <td>24</td>\n",
       "      <td>30</td>\n",
       "      <td>13950</td>\n",
       "    </tr>\n",
       "    <tr>\n",
       "      <th>4</th>\n",
       "      <td>2</td>\n",
       "      <td>164</td>\n",
       "      <td>audi</td>\n",
       "      <td>gas</td>\n",
       "      <td>std</td>\n",
       "      <td>four</td>\n",
       "      <td>sedan</td>\n",
       "      <td>4wd</td>\n",
       "      <td>front</td>\n",
       "      <td>99.4</td>\n",
       "      <td>...</td>\n",
       "      <td>136</td>\n",
       "      <td>mpfi</td>\n",
       "      <td>3.19</td>\n",
       "      <td>3.40</td>\n",
       "      <td>8.0</td>\n",
       "      <td>115</td>\n",
       "      <td>5500</td>\n",
       "      <td>18</td>\n",
       "      <td>22</td>\n",
       "      <td>17450</td>\n",
       "    </tr>\n",
       "  </tbody>\n",
       "</table>\n",
       "<p>5 rows × 26 columns</p>\n",
       "</div>"
      ],
      "text/plain": [
       "   0    1            2    3    4     5            6    7      8     9   ...    \\\n",
       "0   3    ?  alfa-romero  gas  std   two  convertible  rwd  front  88.6  ...     \n",
       "1   3    ?  alfa-romero  gas  std   two  convertible  rwd  front  88.6  ...     \n",
       "2   1    ?  alfa-romero  gas  std   two    hatchback  rwd  front  94.5  ...     \n",
       "3   2  164         audi  gas  std  four        sedan  fwd  front  99.8  ...     \n",
       "4   2  164         audi  gas  std  four        sedan  4wd  front  99.4  ...     \n",
       "\n",
       "    16    17    18    19    20   21    22  23  24     25  \n",
       "0  130  mpfi  3.47  2.68   9.0  111  5000  21  27  13495  \n",
       "1  130  mpfi  3.47  2.68   9.0  111  5000  21  27  16500  \n",
       "2  152  mpfi  2.68  3.47   9.0  154  5000  19  26  16500  \n",
       "3  109  mpfi  3.19  3.40  10.0  102  5500  24  30  13950  \n",
       "4  136  mpfi  3.19  3.40   8.0  115  5500  18  22  17450  \n",
       "\n",
       "[5 rows x 26 columns]"
      ]
     },
     "execution_count": 3,
     "metadata": {},
     "output_type": "execute_result"
    }
   ],
   "source": [
    "cars.head()"
   ]
  },
  {
   "cell_type": "code",
   "execution_count": 4,
   "metadata": {
    "collapsed": false
   },
   "outputs": [],
   "source": [
    "cars.columns = ['symboling','normalized-losses','make','fuel-type','aspiration','num-of-doors',\n",
    "'body-style','drive-wheels','engine-location','wheel-base','length',\n",
    "'width','height','curb-weight','engine-type','num-of-cylinders','engine-size',\n",
    "'fuel-system','bore','stroke','compression-ratio','horsepower','peak-rpm','city-mpg','highway-mpg','price']"
   ]
  },
  {
   "cell_type": "code",
   "execution_count": 5,
   "metadata": {
    "collapsed": false
   },
   "outputs": [
    {
     "data": {
      "text/html": [
       "<div>\n",
       "<table border=\"1\" class=\"dataframe\">\n",
       "  <thead>\n",
       "    <tr style=\"text-align: right;\">\n",
       "      <th></th>\n",
       "      <th>symboling</th>\n",
       "      <th>normalized-losses</th>\n",
       "      <th>make</th>\n",
       "      <th>fuel-type</th>\n",
       "      <th>aspiration</th>\n",
       "      <th>num-of-doors</th>\n",
       "      <th>body-style</th>\n",
       "      <th>drive-wheels</th>\n",
       "      <th>engine-location</th>\n",
       "      <th>wheel-base</th>\n",
       "      <th>...</th>\n",
       "      <th>engine-size</th>\n",
       "      <th>fuel-system</th>\n",
       "      <th>bore</th>\n",
       "      <th>stroke</th>\n",
       "      <th>compression-ratio</th>\n",
       "      <th>horsepower</th>\n",
       "      <th>peak-rpm</th>\n",
       "      <th>city-mpg</th>\n",
       "      <th>highway-mpg</th>\n",
       "      <th>price</th>\n",
       "    </tr>\n",
       "  </thead>\n",
       "  <tbody>\n",
       "    <tr>\n",
       "      <th>0</th>\n",
       "      <td>3</td>\n",
       "      <td>?</td>\n",
       "      <td>alfa-romero</td>\n",
       "      <td>gas</td>\n",
       "      <td>std</td>\n",
       "      <td>two</td>\n",
       "      <td>convertible</td>\n",
       "      <td>rwd</td>\n",
       "      <td>front</td>\n",
       "      <td>88.6</td>\n",
       "      <td>...</td>\n",
       "      <td>130</td>\n",
       "      <td>mpfi</td>\n",
       "      <td>3.47</td>\n",
       "      <td>2.68</td>\n",
       "      <td>9.0</td>\n",
       "      <td>111</td>\n",
       "      <td>5000</td>\n",
       "      <td>21</td>\n",
       "      <td>27</td>\n",
       "      <td>13495</td>\n",
       "    </tr>\n",
       "    <tr>\n",
       "      <th>1</th>\n",
       "      <td>3</td>\n",
       "      <td>?</td>\n",
       "      <td>alfa-romero</td>\n",
       "      <td>gas</td>\n",
       "      <td>std</td>\n",
       "      <td>two</td>\n",
       "      <td>convertible</td>\n",
       "      <td>rwd</td>\n",
       "      <td>front</td>\n",
       "      <td>88.6</td>\n",
       "      <td>...</td>\n",
       "      <td>130</td>\n",
       "      <td>mpfi</td>\n",
       "      <td>3.47</td>\n",
       "      <td>2.68</td>\n",
       "      <td>9.0</td>\n",
       "      <td>111</td>\n",
       "      <td>5000</td>\n",
       "      <td>21</td>\n",
       "      <td>27</td>\n",
       "      <td>16500</td>\n",
       "    </tr>\n",
       "    <tr>\n",
       "      <th>2</th>\n",
       "      <td>1</td>\n",
       "      <td>?</td>\n",
       "      <td>alfa-romero</td>\n",
       "      <td>gas</td>\n",
       "      <td>std</td>\n",
       "      <td>two</td>\n",
       "      <td>hatchback</td>\n",
       "      <td>rwd</td>\n",
       "      <td>front</td>\n",
       "      <td>94.5</td>\n",
       "      <td>...</td>\n",
       "      <td>152</td>\n",
       "      <td>mpfi</td>\n",
       "      <td>2.68</td>\n",
       "      <td>3.47</td>\n",
       "      <td>9.0</td>\n",
       "      <td>154</td>\n",
       "      <td>5000</td>\n",
       "      <td>19</td>\n",
       "      <td>26</td>\n",
       "      <td>16500</td>\n",
       "    </tr>\n",
       "    <tr>\n",
       "      <th>3</th>\n",
       "      <td>2</td>\n",
       "      <td>164</td>\n",
       "      <td>audi</td>\n",
       "      <td>gas</td>\n",
       "      <td>std</td>\n",
       "      <td>four</td>\n",
       "      <td>sedan</td>\n",
       "      <td>fwd</td>\n",
       "      <td>front</td>\n",
       "      <td>99.8</td>\n",
       "      <td>...</td>\n",
       "      <td>109</td>\n",
       "      <td>mpfi</td>\n",
       "      <td>3.19</td>\n",
       "      <td>3.40</td>\n",
       "      <td>10.0</td>\n",
       "      <td>102</td>\n",
       "      <td>5500</td>\n",
       "      <td>24</td>\n",
       "      <td>30</td>\n",
       "      <td>13950</td>\n",
       "    </tr>\n",
       "    <tr>\n",
       "      <th>4</th>\n",
       "      <td>2</td>\n",
       "      <td>164</td>\n",
       "      <td>audi</td>\n",
       "      <td>gas</td>\n",
       "      <td>std</td>\n",
       "      <td>four</td>\n",
       "      <td>sedan</td>\n",
       "      <td>4wd</td>\n",
       "      <td>front</td>\n",
       "      <td>99.4</td>\n",
       "      <td>...</td>\n",
       "      <td>136</td>\n",
       "      <td>mpfi</td>\n",
       "      <td>3.19</td>\n",
       "      <td>3.40</td>\n",
       "      <td>8.0</td>\n",
       "      <td>115</td>\n",
       "      <td>5500</td>\n",
       "      <td>18</td>\n",
       "      <td>22</td>\n",
       "      <td>17450</td>\n",
       "    </tr>\n",
       "  </tbody>\n",
       "</table>\n",
       "<p>5 rows × 26 columns</p>\n",
       "</div>"
      ],
      "text/plain": [
       "   symboling normalized-losses         make fuel-type aspiration num-of-doors  \\\n",
       "0          3                 ?  alfa-romero       gas        std          two   \n",
       "1          3                 ?  alfa-romero       gas        std          two   \n",
       "2          1                 ?  alfa-romero       gas        std          two   \n",
       "3          2               164         audi       gas        std         four   \n",
       "4          2               164         audi       gas        std         four   \n",
       "\n",
       "    body-style drive-wheels engine-location  wheel-base  ...    engine-size  \\\n",
       "0  convertible          rwd           front        88.6  ...            130   \n",
       "1  convertible          rwd           front        88.6  ...            130   \n",
       "2    hatchback          rwd           front        94.5  ...            152   \n",
       "3        sedan          fwd           front        99.8  ...            109   \n",
       "4        sedan          4wd           front        99.4  ...            136   \n",
       "\n",
       "   fuel-system  bore  stroke compression-ratio horsepower  peak-rpm city-mpg  \\\n",
       "0         mpfi  3.47    2.68               9.0        111      5000       21   \n",
       "1         mpfi  3.47    2.68               9.0        111      5000       21   \n",
       "2         mpfi  2.68    3.47               9.0        154      5000       19   \n",
       "3         mpfi  3.19    3.40              10.0        102      5500       24   \n",
       "4         mpfi  3.19    3.40               8.0        115      5500       18   \n",
       "\n",
       "  highway-mpg  price  \n",
       "0          27  13495  \n",
       "1          27  16500  \n",
       "2          26  16500  \n",
       "3          30  13950  \n",
       "4          22  17450  \n",
       "\n",
       "[5 rows x 26 columns]"
      ]
     },
     "execution_count": 5,
     "metadata": {},
     "output_type": "execute_result"
    }
   ],
   "source": [
    "cars.head()"
   ]
  },
  {
   "cell_type": "code",
   "execution_count": 6,
   "metadata": {
    "collapsed": false
   },
   "outputs": [],
   "source": [
    "cars[['normalized-losses','stroke','bore','peak-rpm','price','horsepower']]=cars[['normalized-losses','stroke','bore','peak-rpm','price','horsepower']].replace('?',np.nan)"
   ]
  },
  {
   "cell_type": "code",
   "execution_count": 7,
   "metadata": {
    "collapsed": false
   },
   "outputs": [],
   "source": [
    "cars['num-of-cylinders'].value_counts()\n",
    "\n",
    "dict1 = {'two':2,'three':3,'four':4,'five':5,'six':6,'eight':8,'twelve':12}\n",
    "for i in range(len(cars['num-of-cylinders'])):\n",
    "    if cars.loc[i,'num-of-cylinders'] in dict1.keys():\n",
    "        cars.loc[i,'num-of-cylinders'] = dict1[cars.loc[i,'num-of-cylinders']]\n",
    "\n",
    "cars['num-of-cylinders'].value_counts()\n",
    "\n",
    "type_change_cols = ['num-of-cylinders','horsepower','stroke','bore','normalized-losses','peak-rpm','price']\n",
    "cars[type_change_cols]=cars[type_change_cols].astype(float)"
   ]
  },
  {
   "cell_type": "code",
   "execution_count": 8,
   "metadata": {
    "collapsed": false
   },
   "outputs": [],
   "source": [
    "cars[cars['normalized-losses'].isnull()==False]\n",
    "\n",
    "del cars['normalized-losses']\n",
    "cars = cars.dropna()\n",
    "cars=cars.reset_index(drop=True)"
   ]
  },
  {
   "cell_type": "code",
   "execution_count": 9,
   "metadata": {
    "collapsed": false
   },
   "outputs": [
    {
     "name": "stdout",
     "output_type": "stream",
     "text": [
      "<class 'pandas.core.frame.DataFrame'>\n",
      "RangeIndex: 195 entries, 0 to 194\n",
      "Data columns (total 16 columns):\n",
      "symboling            195 non-null int64\n",
      "wheel-base           195 non-null float64\n",
      "length               195 non-null float64\n",
      "num-of-cylinders     195 non-null float64\n",
      "width                195 non-null float64\n",
      "height               195 non-null float64\n",
      "curb-weight          195 non-null int64\n",
      "engine-size          195 non-null int64\n",
      "bore                 195 non-null float64\n",
      "stroke               195 non-null float64\n",
      "compression-ratio    195 non-null float64\n",
      "horsepower           195 non-null float64\n",
      "peak-rpm             195 non-null float64\n",
      "city-mpg             195 non-null int64\n",
      "highway-mpg          195 non-null int64\n",
      "price                195 non-null float64\n",
      "dtypes: float64(11), int64(5)\n",
      "memory usage: 24.5 KB\n"
     ]
    }
   ],
   "source": [
    "val_cols = ['symboling','wheel-base','length','num-of-cylinders',\n",
    "            'width','height','curb-weight','engine-size','bore',\n",
    "            'stroke','compression-ratio','horsepower','peak-rpm',\n",
    "            'city-mpg','highway-mpg','price']\n",
    "\n",
    "norm_cars = (cars[val_cols] - cars[val_cols].mean())/cars[val_cols].std()\n",
    "cars[val_cols].info()\n",
    "norm_cars['price'] = cars['price']"
   ]
  },
  {
   "cell_type": "code",
   "execution_count": 10,
   "metadata": {
    "collapsed": false,
    "scrolled": true
   },
   "outputs": [
    {
     "data": {
      "text/plain": [
       "highway-mpg          4282.867386\n",
       "engine-size          4444.911296\n",
       "curb-weight          4578.198548\n",
       "horsepower           4716.744425\n",
       "city-mpg             4783.421475\n",
       "length               5240.781880\n",
       "width                5337.652413\n",
       "num-of-cylinders     5620.478409\n",
       "wheel-base           5651.000227\n",
       "bore                 6599.107849\n",
       "compression-ratio    6826.486717\n",
       "peak-rpm             7212.372241\n",
       "stroke               7577.962958\n",
       "height               7737.933150\n",
       "symboling            7959.438562\n",
       "dtype: float64"
      ]
     },
     "execution_count": 10,
     "metadata": {},
     "output_type": "execute_result"
    }
   ],
   "source": [
    "from sklearn.neighbors import KNeighborsRegressor\n",
    "from sklearn.metrics import mean_squared_error\n",
    "\n",
    "def knn_train_test(df, X, Y):\n",
    "    num_rows = df.shape[0]\n",
    "    train_count = round(num_rows/2)\n",
    "    test_count = num_rows - train_count\n",
    "    np.random.seed(1)\n",
    "    random_indices = np.random.permutation(list(df.index))\n",
    "    train_df = df.iloc[random_indices[:train_count]]\n",
    "    test_df = df.iloc[random_indices[train_count:]]\n",
    "    \n",
    "    knn = KNeighborsRegressor()\n",
    "    knn.fit(train_df[[X]],train_df[Y])\n",
    "    predicted = knn.predict(test_df[[X]])\n",
    "    mse = mean_squared_error(predicted,test_df[Y])\n",
    "    rmse = mse**0.5\n",
    "    return rmse\n",
    "\n",
    "all_cols = list(norm_cars.columns)\n",
    "features = [i for i in all_cols if i!='price']\n",
    "rmses = {}\n",
    "for i in features:\n",
    "    rmses[i] = knn_train_test(norm_cars,i,'price')\n",
    "\n",
    "rmses_df = pd.Series(rmses)\n",
    "rmses_df.sort_values(inplace=True)\n",
    "rmses_df"
   ]
  },
  {
   "cell_type": "code",
   "execution_count": 11,
   "metadata": {
    "collapsed": false
   },
   "outputs": [
    {
     "data": {
      "text/html": [
       "<div>\n",
       "<table border=\"1\" class=\"dataframe\">\n",
       "  <thead>\n",
       "    <tr style=\"text-align: right;\">\n",
       "      <th></th>\n",
       "      <th>k=1</th>\n",
       "      <th>k=3</th>\n",
       "      <th>k=5</th>\n",
       "      <th>k=7</th>\n",
       "      <th>k=9</th>\n",
       "    </tr>\n",
       "  </thead>\n",
       "  <tbody>\n",
       "    <tr>\n",
       "      <th>bore</th>\n",
       "      <td>6259.998333</td>\n",
       "      <td>6402.531392</td>\n",
       "      <td>6599.107849</td>\n",
       "      <td>7388.767952</td>\n",
       "      <td>7804.013409</td>\n",
       "    </tr>\n",
       "    <tr>\n",
       "      <th>city-mpg</th>\n",
       "      <td>7265.171568</td>\n",
       "      <td>4983.587008</td>\n",
       "      <td>4783.421475</td>\n",
       "      <td>4760.275873</td>\n",
       "      <td>4688.623820</td>\n",
       "    </tr>\n",
       "    <tr>\n",
       "      <th>compression-ratio</th>\n",
       "      <td>7859.290633</td>\n",
       "      <td>6671.893581</td>\n",
       "      <td>6826.486717</td>\n",
       "      <td>6961.418154</td>\n",
       "      <td>7248.836492</td>\n",
       "    </tr>\n",
       "    <tr>\n",
       "      <th>curb-weight</th>\n",
       "      <td>6441.100862</td>\n",
       "      <td>5212.160738</td>\n",
       "      <td>4578.198548</td>\n",
       "      <td>4343.897392</td>\n",
       "      <td>4181.542927</td>\n",
       "    </tr>\n",
       "    <tr>\n",
       "      <th>engine-size</th>\n",
       "      <td>4601.776897</td>\n",
       "      <td>4423.302754</td>\n",
       "      <td>4444.911296</td>\n",
       "      <td>4178.901528</td>\n",
       "      <td>4024.694955</td>\n",
       "    </tr>\n",
       "    <tr>\n",
       "      <th>height</th>\n",
       "      <td>9210.847164</td>\n",
       "      <td>8327.912084</td>\n",
       "      <td>7737.933150</td>\n",
       "      <td>7869.414408</td>\n",
       "      <td>7745.735110</td>\n",
       "    </tr>\n",
       "    <tr>\n",
       "      <th>highway-mpg</th>\n",
       "      <td>5911.248224</td>\n",
       "      <td>5043.365186</td>\n",
       "      <td>4282.867386</td>\n",
       "      <td>4400.879360</td>\n",
       "      <td>4342.461158</td>\n",
       "    </tr>\n",
       "    <tr>\n",
       "      <th>horsepower</th>\n",
       "      <td>4643.592274</td>\n",
       "      <td>4650.742173</td>\n",
       "      <td>4716.744425</td>\n",
       "      <td>4796.059634</td>\n",
       "      <td>4797.380996</td>\n",
       "    </tr>\n",
       "    <tr>\n",
       "      <th>length</th>\n",
       "      <td>4807.372830</td>\n",
       "      <td>4897.037787</td>\n",
       "      <td>5240.781880</td>\n",
       "      <td>5286.850077</td>\n",
       "      <td>5317.620084</td>\n",
       "    </tr>\n",
       "    <tr>\n",
       "      <th>num-of-cylinders</th>\n",
       "      <td>5644.759223</td>\n",
       "      <td>5830.114994</td>\n",
       "      <td>5620.478409</td>\n",
       "      <td>5624.568503</td>\n",
       "      <td>5805.058647</td>\n",
       "    </tr>\n",
       "    <tr>\n",
       "      <th>peak-rpm</th>\n",
       "      <td>7394.541461</td>\n",
       "      <td>6938.090196</td>\n",
       "      <td>7212.372241</td>\n",
       "      <td>7183.006198</td>\n",
       "      <td>7124.523882</td>\n",
       "    </tr>\n",
       "    <tr>\n",
       "      <th>stroke</th>\n",
       "      <td>7354.472487</td>\n",
       "      <td>7291.517783</td>\n",
       "      <td>7577.962958</td>\n",
       "      <td>7663.076088</td>\n",
       "      <td>7529.986422</td>\n",
       "    </tr>\n",
       "    <tr>\n",
       "      <th>symboling</th>\n",
       "      <td>9539.657503</td>\n",
       "      <td>7977.247810</td>\n",
       "      <td>7959.438562</td>\n",
       "      <td>8131.727335</td>\n",
       "      <td>7534.657394</td>\n",
       "    </tr>\n",
       "    <tr>\n",
       "      <th>wheel-base</th>\n",
       "      <td>6598.162600</td>\n",
       "      <td>5715.803201</td>\n",
       "      <td>5651.000227</td>\n",
       "      <td>5696.517087</td>\n",
       "      <td>5808.834812</td>\n",
       "    </tr>\n",
       "    <tr>\n",
       "      <th>width</th>\n",
       "      <td>5984.205256</td>\n",
       "      <td>5497.259168</td>\n",
       "      <td>5337.652413</td>\n",
       "      <td>4561.348320</td>\n",
       "      <td>4516.716966</td>\n",
       "    </tr>\n",
       "  </tbody>\n",
       "</table>\n",
       "</div>"
      ],
      "text/plain": [
       "                           k=1          k=3          k=5          k=7  \\\n",
       "bore               6259.998333  6402.531392  6599.107849  7388.767952   \n",
       "city-mpg           7265.171568  4983.587008  4783.421475  4760.275873   \n",
       "compression-ratio  7859.290633  6671.893581  6826.486717  6961.418154   \n",
       "curb-weight        6441.100862  5212.160738  4578.198548  4343.897392   \n",
       "engine-size        4601.776897  4423.302754  4444.911296  4178.901528   \n",
       "height             9210.847164  8327.912084  7737.933150  7869.414408   \n",
       "highway-mpg        5911.248224  5043.365186  4282.867386  4400.879360   \n",
       "horsepower         4643.592274  4650.742173  4716.744425  4796.059634   \n",
       "length             4807.372830  4897.037787  5240.781880  5286.850077   \n",
       "num-of-cylinders   5644.759223  5830.114994  5620.478409  5624.568503   \n",
       "peak-rpm           7394.541461  6938.090196  7212.372241  7183.006198   \n",
       "stroke             7354.472487  7291.517783  7577.962958  7663.076088   \n",
       "symboling          9539.657503  7977.247810  7959.438562  8131.727335   \n",
       "wheel-base         6598.162600  5715.803201  5651.000227  5696.517087   \n",
       "width              5984.205256  5497.259168  5337.652413  4561.348320   \n",
       "\n",
       "                           k=9  \n",
       "bore               7804.013409  \n",
       "city-mpg           4688.623820  \n",
       "compression-ratio  7248.836492  \n",
       "curb-weight        4181.542927  \n",
       "engine-size        4024.694955  \n",
       "height             7745.735110  \n",
       "highway-mpg        4342.461158  \n",
       "horsepower         4797.380996  \n",
       "length             5317.620084  \n",
       "num-of-cylinders   5805.058647  \n",
       "peak-rpm           7124.523882  \n",
       "stroke             7529.986422  \n",
       "symboling          7534.657394  \n",
       "wheel-base         5808.834812  \n",
       "width              4516.716966  "
      ]
     },
     "execution_count": 11,
     "metadata": {},
     "output_type": "execute_result"
    }
   ],
   "source": [
    "from sklearn.neighbors import KNeighborsRegressor\n",
    "from sklearn.metrics import mean_squared_error\n",
    "\n",
    "def knn_train_test_k(df, X, Y, k):\n",
    "    num_rows = df.shape[0]\n",
    "    train_count = round(num_rows/2)\n",
    "    test_count = num_rows - train_count\n",
    "    np.random.seed(1)\n",
    "    random_indices = np.random.permutation(list(df.index))\n",
    "    train_df = df.iloc[random_indices[:train_count]]\n",
    "    test_df = df.iloc[random_indices[train_count:]]\n",
    "    \n",
    "    knn = KNeighborsRegressor(n_neighbors=k)\n",
    "    knn.fit(train_df[[X]],train_df[Y])\n",
    "    predicted = knn.predict(test_df[[X]])\n",
    "    mse = mean_squared_error(predicted,test_df[Y])\n",
    "    rmse = mse**0.5\n",
    "    return rmse\n",
    "\n",
    "all_cols = list(norm_cars.columns)\n",
    "k_s = [1,3,5,7,9]\n",
    "features = [i for i in all_cols if i!='price']\n",
    "all_rmses={}\n",
    "for k in k_s:\n",
    "    rmses={}\n",
    "    for i in features:\n",
    "        rmses[i] = knn_train_test_k(norm_cars,i,'price',k)\n",
    "    all_rmses['k='+str(k)] = rmses\n",
    "\n",
    "all_rmses_df = pd.DataFrame(all_rmses)\n",
    "all_rmses_df"
   ]
  },
  {
   "cell_type": "code",
   "execution_count": 12,
   "metadata": {
    "collapsed": false
   },
   "outputs": [
    {
     "data": {
      "text/plain": [
       "([<matplotlib.axis.XTick at 0x7fb8bd9be358>,\n",
       "  <matplotlib.axis.XTick at 0x7fb8bd9beac8>,\n",
       "  <matplotlib.axis.XTick at 0x7fb930903c18>,\n",
       "  <matplotlib.axis.XTick at 0x7fb930854668>,\n",
       "  <matplotlib.axis.XTick at 0x7fb9308580b8>,\n",
       "  <matplotlib.axis.XTick at 0x7fb930858ac8>,\n",
       "  <matplotlib.axis.XTick at 0x7fb93085c518>,\n",
       "  <matplotlib.axis.XTick at 0x7fb93085ccf8>,\n",
       "  <matplotlib.axis.XTick at 0x7fb8bd9be390>,\n",
       "  <matplotlib.axis.XTick at 0x7fb9308ff278>,\n",
       "  <matplotlib.axis.XTick at 0x7fb9308585c0>,\n",
       "  <matplotlib.axis.XTick at 0x7fb93086b240>,\n",
       "  <matplotlib.axis.XTick at 0x7fb93086bcf8>,\n",
       "  <matplotlib.axis.XTick at 0x7fb930870668>,\n",
       "  <matplotlib.axis.XTick at 0x7fb9308730b8>],\n",
       " <a list of 15 Text xticklabel objects>)"
      ]
     },
     "execution_count": 12,
     "metadata": {},
     "output_type": "execute_result"
    },
    {
     "data": {
      "image/png": "[encoded data removed]",
      "text/plain": [
       "<matplotlib.figure.Figure at 0x7fb8c61a6780>"
      ]
     },
     "metadata": {},
     "output_type": "display_data"
    }
   ],
   "source": [
    "all_rmses_df.plot()\n",
    "plt.xticks((np.arange(all_rmses_df.shape[0])),(all_rmses_df.index),rotation=90)"
   ]
  },
  {
   "cell_type": "code",
   "execution_count": 13,
   "metadata": {
    "collapsed": false
   },
   "outputs": [],
   "source": [
    "all_rmses_df.mean(axis=1).sort_values()\n",
    "best5_features = ['engine-size','horsepower','highway-mpg','curb-weight','length']\n"
   ]
  },
  {
   "cell_type": "code",
   "execution_count": 25,
   "metadata": {
    "collapsed": false
   },
   "outputs": [
    {
     "data": {
      "text/plain": [
       "best 2    3231.970957\n",
       "best 3    3336.895394\n",
       "best 4    3888.275925\n",
       "best 5    4113.744628\n",
       "dtype: float64"
      ]
     },
     "execution_count": 25,
     "metadata": {},
     "output_type": "execute_result"
    }
   ],
   "source": [
    "# to make the knn_train_test to work with multiple columns\n",
    "def knn_train_test_k_mult_X(df, X, Y, k):\n",
    "    num_rows = df.shape[0]\n",
    "    train_count = round(num_rows/2)\n",
    "    test_count = num_rows - train_count\n",
    "    np.random.seed(1)\n",
    "    random_indices = np.random.permutation(list(df.index))\n",
    "    train_df = df.iloc[random_indices[:train_count]]\n",
    "    test_df = df.iloc[random_indices[train_count:]]\n",
    "    \n",
    "    knn = KNeighborsRegressor(n_neighbors=k)\n",
    "    knn.fit(train_df[X],train_df[Y])\n",
    "    predicted = knn.predict(test_df[X])\n",
    "    mse = mean_squared_error(predicted,test_df[Y])\n",
    "    rmse = mse**0.5\n",
    "    return rmse\n",
    "\n",
    "all_cols = list(norm_cars.columns)\n",
    "\n",
    "rmses2 = {}\n",
    "for i in range(2,len(best5_features)+1):\n",
    "    rmses2['best '+str(i)] = knn_train_test_k_mult_X(norm_cars,best5_features[:i],'price',5)\n",
    "\n",
    "rmses2_df = pd.Series(rmses2)\n",
    "rmses2_df.sort_values(inplace=True)\n",
    "rmses2_df\n"
   ]
  },
  {
   "cell_type": "code",
   "execution_count": 24,
   "metadata": {
    "collapsed": false
   },
   "outputs": [],
   "source": []
  },
  {
   "cell_type": "code",
   "execution_count": 54,
   "metadata": {
    "collapsed": false
   },
   "outputs": [
    {
     "data": {
      "text/plain": [
       "<matplotlib.collections.PathCollection at 0x7fb930471f28>"
      ]
     },
     "execution_count": 54,
     "metadata": {},
     "output_type": "execute_result"
    },
    {
     "data": {
      "image/png": "[encoded data removed]",
      "text/plain": [
       "<matplotlib.figure.Figure at 0x7fb9303d69e8>"
      ]
     },
     "metadata": {},
     "output_type": "display_data"
    }
   ],
   "source": [
    "hyperparams = list(range(1,26))\n",
    "best3_features = best5_features[:3]\n",
    "best3_rmses={}\n",
    "for k in hyperparams:\n",
    "    rmses3 = {}\n",
    "    for f in best3_features:\n",
    "        rmses3[f] = knn_train_test_k(norm_cars,f,'price',k)\n",
    "    best3_rmses[k] = rmses3\n",
    "best3_rmses_df = pd.DataFrame(best3_rmses)\n",
    "\n",
    "\n",
    "plt.scatter(best3_rmses_df.loc[best3_features[0]].index,best3_rmses_df.loc[best3_features[0]].values)\n",
    "#k=9 gives lowest rmse for best2\n"
   ]
  },
  {
   "cell_type": "code",
   "execution_count": 52,
   "metadata": {
    "collapsed": false
   },
   "outputs": [
    {
     "data": {
      "text/plain": [
       "<matplotlib.collections.PathCollection at 0x7fb9303b6080>"
      ]
     },
     "execution_count": 52,
     "metadata": {},
     "output_type": "execute_result"
    },
    {
     "data": {
      "image/png": "[encoded data removed]",
      "text/plain": [
       "<matplotlib.figure.Figure at 0x7fb9306bc7b8>"
      ]
     },
     "metadata": {},
     "output_type": "display_data"
    }
   ],
   "source": [
    "plt.scatter(best3_rmses_df.loc[best3_features[1]].index,best3_rmses_df.loc[best3_features[1]].values)\n",
    "#k=4 gives lowest rmse for best3\n"
   ]
  },
  {
   "cell_type": "code",
   "execution_count": 53,
   "metadata": {
    "collapsed": false,
    "scrolled": true
   },
   "outputs": [
    {
     "data": {
      "text/plain": [
       "<matplotlib.collections.PathCollection at 0x7fb93030fa90>"
      ]
     },
     "execution_count": 53,
     "metadata": {},
     "output_type": "execute_result"
    },
    {
     "data": {
      "image/png": "[encoded data removed]",
      "text/plain": [
       "<matplotlib.figure.Figure at 0x7fb930354588>"
      ]
     },
     "metadata": {},
     "output_type": "display_data"
    }
   ],
   "source": [
    "plt.scatter(best3_rmses_df.loc[best3_features[2]].index,best3_rmses_df.loc[best3_features[2]].values)\n",
    "#k=2 gives lowest rmse for best3\n"
   ]
  }
 ],
 "metadata": {
  "kernelspec": {
   "display_name": "Python 3",
   "language": "python",
   "name": "python3"
  },
  "language_info": {
   "codemirror_mode": {
    "name": "ipython",
    "version": 3
   },
   "file_extension": ".py",
   "mimetype": "text/x-python",
   "name": "python",
   "nbconvert_exporter": "python",
   "pygments_lexer": "ipython3",
   "version": "3.4.3"
  }
 },
 "nbformat": 4,
 "nbformat_minor": 2
}
